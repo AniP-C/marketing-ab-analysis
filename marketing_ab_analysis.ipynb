{
 "cells": [
  {
   "cell_type": "markdown",
   "metadata": {},
   "source": [
    "# A/B Testing Analysis for Marketing Campaign"
   ]
  },
  {
   "cell_type": "markdown",
   "metadata": {},
   "source": [
    "This notebook performs an A/B test analysis on the `marketing_AB.csv` dataset to evaluate the effectiveness of a new marketing campaign (group 'ad') against a public service announcement (group 'psa')."
   ]
  },
  {
   "cell_type": "code",
   "execution_count": 1,
   "metadata": {},
   "outputs": [],
   "source": [
    "import pandas as pd\n",
    "import numpy as np\n",
    "import matplotlib.pyplot as plt\n",
    "import seaborn as sns\n",
    "from scipy import stats\n",
    "\n",
    "# Display settings\n",
    "sns.set(style=\"whitegrid\")"
   ]
  },
  {
   "cell_type": "markdown",
   "metadata": {},
   "source": [
    "## 1. Data Loading and Preprocessing"
   ]
  },
  {
   "cell_type": "code",
   "execution_count": 2,
   "metadata": {},
   "outputs": [
    {
     "name": "stdout",
     "output_type": "stream",
     "text": [
      "Renamed 'test group' column to 'group'.\n",
      "Converted 'converted' column to integer type.\n",
      "DataFrame Head:\n",
      "   Unnamed: 0  user id group  converted  total ads most ads day  most ads hour\n",
      "0           0  1069124    ad          0        130       Monday             20\n",
      "1           1  1119715    ad          0         93      Tuesday             22\n",
      "2           2  1144181    ad          0         21      Tuesday             18\n",
      "3           3  1435133    ad          0        355      Tuesday             10\n",
      "4           4  1015700    ad          0        276       Friday             14\n",
      "\n",
      "DataFrame Info:\n",
      "<class 'pandas.core.frame.DataFrame'>\n",
      "RangeIndex: 588101 entries, 0 to 588100\n",
      "Data columns (total 7 columns):\n",
      " #   Column         Non-Null Count   Dtype \n",
      "---  ------         --------------   ----- \n",
      " 0   Unnamed: 0     588101 non-null  int64 \n",
      " 1   user id        588101 non-null  int64 \n",
      " 2   group          588101 non-null  object\n",
      " 3   converted      588101 non-null  int64 \n",
      " 4   total ads      588101 non-null  int64 \n",
      " 5   most ads day   588101 non-null  object\n",
      " 6   most ads hour  588101 non-null  int64 \n",
      "dtypes: int64(5), object(2)\n",
      "memory usage: 31.4+ MB\n"
     ]
    }
   ],
   "source": [
    "# Load the dataset\n",
    "df = pd.read_csv('marketing_AB.csv')\n",
    "\n",
    "# Rename 'test group' to 'group' if it exists\n",
    "if 'test group' in df.columns:\n",
    "    df.rename(columns={'test group': 'group'}, inplace=True)\n",
    "    print(\"Renamed 'test group' column to 'group'.\")\n",
    "\n",
    "# Convert 'converted' column to integer (0 or 1)\n",
    "df['converted'] = df['converted'].astype(int)\n",
    "print(\"Converted 'converted' column to integer type.\")\n",
    "\n",
    "print(\"DataFrame Head:\")\n",
    "print(df.head())\n",
    "print(\"\\nDataFrame Info:\")\n",
    "df.info()"
   ]
  },
  {
   "cell_type": "markdown",
   "metadata": {},
   "source": [
    "## 2. Conversion Rate Calculation"
   ]
  },
  {
   "cell_type": "code",
   "execution_count": 3,
   "metadata": {},
   "outputs": [
    {
     "name": "stdout",
     "output_type": "stream",
     "text": [
      "Conversion Rates:\n",
      "group\n",
      "ad     2.554656\n",
      "psa    1.785411\n",
      "Name: converted, dtype: float64\n"
     ]
    }
   ],
   "source": [
    "# Calculate conversion rates for each group\n",
    "conversion_rates = df.groupby('group')['converted'].mean() * 100\n",
    "print(\"Conversion Rates:\")\n",
    "print(conversion_rates)"
   ]
  },
  {
   "cell_type": "markdown",
   "metadata": {},
   "source": [
    "## 3. Visualization"
   ]
  },
  {
   "cell_type": "code",
   "execution_count": 4,
   "metadata": {},
   "outputs": [
    {
     "name": "stderr",
     "output_type": "stream",
     "text": [
      "C:\\Users\\Aniruddh Parashar\\AppData\\Local\\Temp\\ipykernel_13012\\2657321517.py:3: FutureWarning: \n",
      "\n",
      "Passing `palette` without assigning `hue` is deprecated and will be removed in v0.14.0. Assign the `x` variable to `hue` and set `legend=False` for the same effect.\n",
      "\n",
      "  sns.barplot(x=conversion_rates.index, y=conversion_rates.values, palette='viridis')\n"
     ]
    },
    {
     "data": {
      "image/png": "[encoded data removed]",
      "text/plain": [
       "<Figure size 800x500 with 1 Axes>"
      ]
     },
     "metadata": {},
     "output_type": "display_data"
    }
   ],
   "source": [
    "# Plot conversion rates\n",
    "plt.figure(figsize=(8, 5))\n",
    "sns.barplot(x=conversion_rates.index, y=conversion_rates.values, palette='viridis')\n",
    "plt.ylabel(\"Conversion Rate (%)\")\n",
    "plt.title(\"Conversion Rates by Group (Ad vs PSA)\")\n",
    "plt.show()"
   ]
  },
  {
   "cell_type": "markdown",
   "metadata": {},
   "source": [
    "## 4. Hypothesis Testing (Two-sample t-test)"
   ]
  },
  {
   "cell_type": "code",
   "execution_count": 5,
   "metadata": {},
   "outputs": [
    {
     "name": "stdout",
     "output_type": "stream",
     "text": [
      "T-statistic: 7.3704\n",
      "P-value: 0.0000\n",
      "\n",
      "### Interpretation\n",
      "- Null Hypothesis (H0): No difference in conversion between 'ad' and 'psa' groups.\n",
      "- Alternative Hypothesis (H1): The 'ad' campaign has a different conversion rate than 'psa'.\n",
      "\n",
      "Conclusion: P-value < 0.05. Reject Null Hypothesis. The 'ad' campaign had a statistically significant impact on conversions compared to 'psa'.\n"
     ]
    }
   ],
   "source": [
    "# Define control and treatment groups\n",
    "control_group = df[df['group'] == 'psa']['converted']\n",
    "treatment_group = df[df['group'] == 'ad']['converted']\n",
    "\n",
    "# Perform two-sample t-test\n",
    "if len(control_group) > 1 and len(treatment_group) > 1:\n",
    "    t_stat, p_val = stats.ttest_ind(treatment_group, control_group)\n",
    "    print(f\"T-statistic: {t_stat:.4f}\")\n",
    "    print(f\"P-value: {p_val:.4f}\")\n",
    "\n",
    "    print(\"\\n### Interpretation\")\n",
    "    print(\"- Null Hypothesis (H0): No difference in conversion between 'ad' and 'psa' groups.\")\n",
    "    print(\"- Alternative Hypothesis (H1): The 'ad' campaign has a different conversion rate than 'psa'.\")\n",
    "\n",
    "    if p_val < 0.05:\n",
    "        print(\"\\nConclusion: P-value < 0.05. Reject Null Hypothesis. The 'ad' campaign had a statistically significant impact on conversions compared to 'psa'.\")\n",
    "    else:\n",
    "        print(\"\\nConclusion: P-value >= 0.05. Fail to Reject Null Hypothesis. The 'ad' campaign did not have a statistically significant impact on conversions compared to 'psa'.\")\n",
    "else:\n",
    "    print(\"Not enough samples in one or both groups to perform a t-test. Check group sizes.\")"
   ]
  },
  {
   "cell_type": "markdown",
   "metadata": {},
   "source": [
    "## 5. Key Insights"
   ]
  },
  {
   "cell_type": "code",
   "execution_count": 6,
   "id": "74e6b335",
   "metadata": {},
   "outputs": [
    {
     "name": "stdout",
     "output_type": "stream",
     "text": [
      "ad conversion: 2.5547% (n=564577)\n",
      "psa conversion: 1.7854% (n=23524)\n",
      "Difference in conversion: 0.7692%\n",
      "95% CI for difference: 0.5951% to 0.9434%\n",
      "Cohen's h: 0.053\n"
     ]
    }
   ],
   "source": [
    "\n",
    "# Self-contained A/B stats block: re-derives inputs to avoid NameError\n",
    "import pandas as pd\n",
    "import numpy as np\n",
    "from math import sqrt, asin\n",
    "import os\n",
    "\n",
    "# Try to reuse existing df if present; else load from CSV\n",
    "try:\n",
    "    df  # type: ignore\n",
    "except NameError:\n",
    "    path_candidates = [\n",
    "        \"marketing_AB.csv\",\n",
    "        \"/mnt/data/marketing_AB.csv\",\n",
    "        \"./data/marketing_AB.csv\"\n",
    "    ]\n",
    "    for p in path_candidates:\n",
    "        if os.path.exists(p):\n",
    "            df = pd.read_csv(p)\n",
    "            break\n",
    "    else:\n",
    "        raise FileNotFoundError(\"Could not locate marketing_AB.csv\")\n",
    "\n",
    "# Normalize columns\n",
    "cols_lower = {c.lower(): c for c in df.columns}\n",
    "group_col = cols_lower.get(\"group\") or cols_lower.get(\"test group\")\n",
    "conv_col = cols_lower.get(\"converted\")\n",
    "if group_col is None:\n",
    "    raise KeyError(\"Could not find 'group' or 'test group' column in the dataset.\")\n",
    "if conv_col is None:\n",
    "    raise KeyError(\"Could not find 'converted' column in the dataset.\")\n",
    "\n",
    "df = df.rename(columns={group_col: \"group\"})\n",
    "df[\"group\"] = df[\"group\"].astype(str).str.lower().str.strip()\n",
    "df[conv_col] = pd.to_numeric(df[conv_col], errors=\"coerce\").fillna(0).astype(int)\n",
    "\n",
    "# Filter\n",
    "ad = df[df[\"group\"] == \"ad\"]\n",
    "psa = df[df[\"group\"] == \"psa\"]\n",
    "\n",
    "# Stats\n",
    "p1 = ad[conv_col].mean()\n",
    "p2 = psa[conv_col].mean()\n",
    "n1 = len(ad)\n",
    "n2 = len(psa)\n",
    "diff = p1 - p2\n",
    "\n",
    "# 95% CI for difference (normal approx)\n",
    "se = (p1*(1-p1)/n1 + p2*(1-p2)/n2) ** 0.5\n",
    "z = 1.96\n",
    "ci_diff = (diff - z*se, diff + z*se)\n",
    "\n",
    "def cohens_h(a, b):\n",
    "    return 2 * (asin(np.sqrt(a)) - asin(np.sqrt(b)))\n",
    "\n",
    "h = cohens_h(p1, p2)\n",
    "\n",
    "print(f\"ad conversion: {p1:.4%} (n={n1})\")\n",
    "print(f\"psa conversion: {p2:.4%} (n={n2})\")\n",
    "print(f\"Difference in conversion: {diff:.4%}\")\n",
    "print(f\"95% CI for difference: {ci_diff[0]:.4%} to {ci_diff[1]:.4%}\")\n",
    "print(f\"Cohen's h: {h:.3f}\")\n"
   ]
  }
 ],
 "metadata": {
  "kernelspec": {
   "display_name": "Python 3",
   "language": "python",
   "name": "python3"
  },
  "language_info": {
   "codemirror_mode": {
    "name": "ipython",
    "version": 3
   },
   "file_extension": ".py",
   "mimetype": "text/x-python",
   "name": "python",
   "nbconvert_exporter": "python",
   "pygments_lexer": "ipython3",
   "version": "3.13.3"
  }
 },
 "nbformat": 4,
 "nbformat_minor": 4
}
