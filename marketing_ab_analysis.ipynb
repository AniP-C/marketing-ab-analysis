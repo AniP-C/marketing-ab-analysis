{
  "cells": [
    {
      "cell_type": "markdown",
      "metadata": {
        "id": "GdZhg7Fj2Mtx"
      },
      "source": [
        "# A/B Testing Analysis for Marketing Campaign"
      ]
    },
    {
      "cell_type": "markdown",
      "metadata": {
        "id": "iI2B5NNg2Mt1"
      },
      "source": [
        "This notebook performs an A/B test analysis on the `marketing_AB.csv` dataset to evaluate the effectiveness of a new marketing campaign (group 'ad') against a public service announcement (group 'psa')."
      ]
    },
    {
      "cell_type": "code",
      "execution_count": 12,
      "metadata": {
        "id": "ozXJ4R1C2Mt1"
      },
      "outputs": [],
      "source": [
        "import pandas as pd\n",
        "import numpy as np\n",
        "import matplotlib.pyplot as plt\n",
        "import seaborn as sns\n",
        "from scipy import stats\n",
        "\n",
        "# Display settings\n",
        "sns.set(style=\"whitegrid\")"
      ]
    },
    {
      "cell_type": "markdown",
      "metadata": {
        "id": "iEcSu-Y42Mt3"
      },
      "source": [
        "## 1. Data Loading and Preprocessing"
      ]
    },
    {
      "cell_type": "code",
      "execution_count": 13,
      "metadata": {
        "colab": {
          "base_uri": "https://localhost:8080/"
        },
        "id": "abb_SIWf2Mt3",
        "outputId": "88e1eefe-bab3-4562-e5c3-bfcbb3ce02b5"
      },
      "outputs": [
        {
          "output_type": "stream",
          "name": "stdout",
          "text": [
            "Renamed 'test group' column to 'group'.\n",
            "Converted 'converted' column to integer type.\n",
            "DataFrame Head:\n",
            "   Unnamed: 0  user id group  converted  total ads most ads day  most ads hour\n",
            "0           0  1069124    ad          0        130       Monday             20\n",
            "1           1  1119715    ad          0         93      Tuesday             22\n",
            "2           2  1144181    ad          0         21      Tuesday             18\n",
            "3           3  1435133    ad          0        355      Tuesday             10\n",
            "4           4  1015700    ad          0        276       Friday             14\n",
            "\n",
            "DataFrame Info:\n",
            "<class 'pandas.core.frame.DataFrame'>\n",
            "RangeIndex: 588101 entries, 0 to 588100\n",
            "Data columns (total 7 columns):\n",
            " #   Column         Non-Null Count   Dtype \n",
            "---  ------         --------------   ----- \n",
            " 0   Unnamed: 0     588101 non-null  int64 \n",
            " 1   user id        588101 non-null  int64 \n",
            " 2   group          588101 non-null  object\n",
            " 3   converted      588101 non-null  int64 \n",
            " 4   total ads      588101 non-null  int64 \n",
            " 5   most ads day   588101 non-null  object\n",
            " 6   most ads hour  588101 non-null  int64 \n",
            "dtypes: int64(5), object(2)\n",
            "memory usage: 31.4+ MB\n"
          ]
        }
      ],
      "source": [
        "# Load the dataset\n",
        "# df = pd.read_csv('marketing_AB.csv')\n",
        "df = pd.read_csv('/content/sample_data/marketing_AB.csv')\n",
        "\n",
        "# Rename 'test group' to 'group' if it exists\n",
        "if 'test group' in df.columns:\n",
        "    df.rename(columns={'test group': 'group'}, inplace=True)\n",
        "    print(\"Renamed 'test group' column to 'group'.\")\n",
        "\n",
        "# Convert 'converted' column to integer (0 or 1)\n",
        "df['converted'] = df['converted'].astype(int)\n",
        "print(\"Converted 'converted' column to integer type.\")\n",
        "\n",
        "print(\"DataFrame Head:\")\n",
        "print(df.head())\n",
        "print(\"\\nDataFrame Info:\")\n",
        "df.info()"
      ]
    },
    {
      "cell_type": "markdown",
      "source": [
        "# New Section"
      ],
      "metadata": {
        "id": "mzn3FrPn4lYD"
      }
    },
    {
      "cell_type": "markdown",
      "metadata": {
        "id": "9GIo2AnA2Mt4"
      },
      "source": [
        "## 2. Conversion Rate Calculation"
      ]
    },
    {
      "cell_type": "code",
      "execution_count": 14,
      "metadata": {
        "colab": {
          "base_uri": "https://localhost:8080/"
        },
        "id": "uHLFCHfv2Mt4",
        "outputId": "2d12b505-43df-40a7-f0db-cd03aea3d145"
      },
      "outputs": [
        {
          "output_type": "stream",
          "name": "stdout",
          "text": [
            "Conversion Rates:\n",
            "group\n",
            "ad     2.554656\n",
            "psa    1.785411\n",
            "Name: converted, dtype: float64\n"
          ]
        }
      ],
      "source": [
        "# Calculate conversion rates for each group\n",
        "conversion_rates = df.groupby('group')['converted'].mean() * 100\n",
        "print(\"Conversion Rates:\")\n",
        "print(conversion_rates)"
      ]
    },
    {
      "cell_type": "markdown",
      "metadata": {
        "id": "4UabaBzC2Mt5"
      },
      "source": [
        "## 3. Visualization"
      ]
    },
    {
      "cell_type": "code",
      "execution_count": 15,
      "metadata": {
        "colab": {
          "base_uri": "https://localhost:8080/",
          "height": 496
        },
        "id": "nFZZd-Bq2Mt5",
        "outputId": "bba405a6-a580-4d97-afa0-d7729fc63109"
      },
      "outputs": [
        {
          "output_type": "display_data",
          "data": {
            "text/plain": [
              "<Figure size 800x500 with 1 Axes>"
            ],
            "image/png": "[encoded data removed]"
          },
          "metadata": {}
        }
      ],
      "source": [
        "# Plot conversion rates\n",
        "plt.figure(figsize=(8, 5))\n",
        "sns.barplot(x=conversion_rates.index, y=conversion_rates.values, hue=conversion_rates.index, palette='viridis', legend=False)\n",
        "plt.ylabel(\"Conversion Rate (%)\")\n",
        "plt.title(\"Conversion Rates by Group (Ad vs PSA)\")\n",
        "plt.show()"
      ]
    },
    {
      "cell_type": "markdown",
      "metadata": {
        "id": "xZlbJdoU2Mt5"
      },
      "source": [
        "## 4. Hypothesis Testing (Two-sample t-test)"
      ]
    },
    {
      "cell_type": "code",
      "execution_count": 16,
      "metadata": {
        "colab": {
          "base_uri": "https://localhost:8080/"
        },
        "id": "cJqH1r2Q2Mt6",
        "outputId": "01b365c7-8ab7-462f-99b2-5262087f667e"
      },
      "outputs": [
        {
          "output_type": "stream",
          "name": "stdout",
          "text": [
            "T-statistic: 7.3704\n",
            "P-value: 0.0000\n",
            "\n",
            "Interpretation\n",
            "- Null Hypothesis (H0): No difference in conversion between 'ad' and 'psa' groups.\n",
            "- Alternative Hypothesis (H1): The 'ad' campaign has a different conversion rate than 'psa'.\n",
            "\n",
            "Conclusion: P-value < 0.05. Reject Null Hypothesis. The 'ad' campaign had a statistically significant impact on conversions compared to 'psa'.\n"
          ]
        }
      ],
      "source": [
        "# Define control and treatment groups\n",
        "control_group = df[df['group'] == 'psa']['converted']\n",
        "treatment_group = df[df['group'] == 'ad']['converted']\n",
        "\n",
        "# Perform two-sample t-test\n",
        "if len(control_group) > 1 and len(treatment_group) > 1:\n",
        "    t_stat, p_val = stats.ttest_ind(treatment_group, control_group)\n",
        "    print(f\"T-statistic: {t_stat:.4f}\")\n",
        "    print(f\"P-value: {p_val:.4f}\")\n",
        "\n",
        "    print(\"\\nInterpretation\")\n",
        "    print(\"- Null Hypothesis (H0): No difference in conversion between 'ad' and 'psa' groups.\")\n",
        "    print(\"- Alternative Hypothesis (H1): The 'ad' campaign has a different conversion rate than 'psa'.\")\n",
        "\n",
        "    if p_val < 0.05:\n",
        "        print(\"\\nConclusion: P-value < 0.05. Reject Null Hypothesis. The 'ad' campaign had a statistically significant impact on conversions compared to 'psa'.\")\n",
        "    else:\n",
        "        print(\"\\nConclusion: P-value >= 0.05. Fail to Reject Null Hypothesis. The 'ad' campaign did not have a statistically significant impact on conversions compared to 'psa'.\")\n",
        "else:\n",
        "    print(\"Not enough samples in one or both groups to perform a t-test. Check group sizes.\")"
      ]
    },
    {
      "cell_type": "markdown",
      "metadata": {
        "id": "mE2KQEY22Mt6"
      },
      "source": [
        "## 5. Key Insights"
      ]
    },
    {
      "cell_type": "code",
      "execution_count": 17,
      "metadata": {
        "colab": {
          "base_uri": "https://localhost:8080/"
        },
        "id": "WwI4getx2Mt6",
        "outputId": "d0cc1852-59fc-4607-abfc-40744eeaf817"
      },
      "outputs": [
        {
          "output_type": "stream",
          "name": "stdout",
          "text": [
            "Based on the analysis:\n",
            "- The 'ad' group had a conversion rate of 2.55% compared to the 'psa' group's 1.79%.\n",
            "- This represents an uplift of 0.77% for the 'ad' campaign.\n",
            "- The observed difference is statistically significant, indicating the 'ad' campaign is more effective.\n"
          ]
        }
      ],
      "source": [
        "print(\"Based on the analysis:\")\n",
        "if 'ad' in conversion_rates.index and 'psa' in conversion_rates.index:\n",
        "    ad_rate = conversion_rates['ad']\n",
        "    psa_rate = conversion_rates['psa']\n",
        "    uplift = ad_rate - psa_rate\n",
        "    print(f\"- The 'ad' group had a conversion rate of {ad_rate:.2f}% compared to the 'psa' group's {psa_rate:.2f}%.\")\n",
        "    print(f\"- This represents an uplift of {uplift:.2f}% for the 'ad' campaign.\")\n",
        "    if 'p_val' in locals() and p_val < 0.05:\n",
        "        print(\"- The observed difference is statistically significant, indicating the 'ad' campaign is more effective.\")\n",
        "    else:\n",
        "        print(\"- The observed difference is not statistically significant.\")\n",
        "else:\n",
        "    print(\"- Could not calculate uplift as 'ad' or 'psa' groups were not found.\")"
      ]
    }
  ],
  "metadata": {
    "kernelspec": {
      "display_name": "Python 3",
      "language": "python",
      "name": "python3"
    },
    "language_info": {
      "codemirror_mode": {
        "name": "ipython",
        "version": 3
      },
      "file_extension": ".py",
      "mimetype": "text/x-python",
      "name": "python",
      "nbconvert_exporter": "python",
      "pygments_lexer": "ipython3",
      "version": "3.13.3"
    },
    "colab": {
      "provenance": [],
      "toc_visible": true
    }
  },
  "nbformat": 4,
  "nbformat_minor": 0
}